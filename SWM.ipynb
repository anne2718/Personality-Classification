{
 "cells": [
  {
   "cell_type": "code",
   "execution_count": 6,
   "id": "816a461d",
   "metadata": {},
   "outputs": [],
   "source": [
    "#import pacakages\n",
    "import pandas as pd"
   ]
  },
  {
   "cell_type": "code",
   "execution_count": 7,
   "id": "2d520bef",
   "metadata": {},
   "outputs": [],
   "source": [
    "#reading the csvs into dataframe\n",
    "users=pd.read_csv(\"users.csv\")\n",
    "ul = pd.read_csv(\"users-likes.csv\")\n",
    "likes = pd.read_csv(\"likes.csv\")"
   ]
  },
  {
   "cell_type": "code",
   "execution_count": 8,
   "id": "38e38a20",
   "metadata": {},
   "outputs": [
    {
     "data": {
      "text/html": [
       "<div>\n",
       "<style scoped>\n",
       "    .dataframe tbody tr th:only-of-type {\n",
       "        vertical-align: middle;\n",
       "    }\n",
       "\n",
       "    .dataframe tbody tr th {\n",
       "        vertical-align: top;\n",
       "    }\n",
       "\n",
       "    .dataframe thead th {\n",
       "        text-align: right;\n",
       "    }\n",
       "</style>\n",
       "<table border=\"1\" class=\"dataframe\">\n",
       "  <thead>\n",
       "    <tr style=\"text-align: right;\">\n",
       "      <th></th>\n",
       "      <th>userid</th>\n",
       "      <th>gender</th>\n",
       "      <th>age</th>\n",
       "      <th>political</th>\n",
       "      <th>ope</th>\n",
       "      <th>con</th>\n",
       "      <th>ext</th>\n",
       "      <th>agr</th>\n",
       "      <th>neu</th>\n",
       "    </tr>\n",
       "  </thead>\n",
       "  <tbody>\n",
       "    <tr>\n",
       "      <th>0</th>\n",
       "      <td>54f34605aebd63f7680e37ffd299af79</td>\n",
       "      <td>0</td>\n",
       "      <td>33</td>\n",
       "      <td>0.0</td>\n",
       "      <td>1.26</td>\n",
       "      <td>1.65</td>\n",
       "      <td>1.17</td>\n",
       "      <td>-1.76</td>\n",
       "      <td>0.61</td>\n",
       "    </tr>\n",
       "    <tr>\n",
       "      <th>1</th>\n",
       "      <td>86399f8c44ba54224b2e60177ca89fa9</td>\n",
       "      <td>1</td>\n",
       "      <td>35</td>\n",
       "      <td>0.0</td>\n",
       "      <td>1.07</td>\n",
       "      <td>0.17</td>\n",
       "      <td>-0.14</td>\n",
       "      <td>1.49</td>\n",
       "      <td>0.30</td>\n",
       "    </tr>\n",
       "    <tr>\n",
       "      <th>2</th>\n",
       "      <td>84fab50f3c60d1fdc83aa91b5e584a78</td>\n",
       "      <td>1</td>\n",
       "      <td>36</td>\n",
       "      <td>0.0</td>\n",
       "      <td>0.89</td>\n",
       "      <td>1.28</td>\n",
       "      <td>0.86</td>\n",
       "      <td>1.07</td>\n",
       "      <td>0.99</td>\n",
       "    </tr>\n",
       "    <tr>\n",
       "      <th>3</th>\n",
       "      <td>f3b8fdaccce12ef6352bfad4d6052fe9</td>\n",
       "      <td>0</td>\n",
       "      <td>39</td>\n",
       "      <td>NaN</td>\n",
       "      <td>0.33</td>\n",
       "      <td>-1.01</td>\n",
       "      <td>-0.33</td>\n",
       "      <td>-0.68</td>\n",
       "      <td>0.92</td>\n",
       "    </tr>\n",
       "    <tr>\n",
       "      <th>4</th>\n",
       "      <td>8b06ea5e9cb87c61da387995450607f7</td>\n",
       "      <td>0</td>\n",
       "      <td>31</td>\n",
       "      <td>NaN</td>\n",
       "      <td>0.15</td>\n",
       "      <td>0.47</td>\n",
       "      <td>1.17</td>\n",
       "      <td>-1.01</td>\n",
       "      <td>-0.32</td>\n",
       "    </tr>\n",
       "  </tbody>\n",
       "</table>\n",
       "</div>"
      ],
      "text/plain": [
       "                             userid  gender  age  political   ope   con   ext  \\\n",
       "0  54f34605aebd63f7680e37ffd299af79       0   33        0.0  1.26  1.65  1.17   \n",
       "1  86399f8c44ba54224b2e60177ca89fa9       1   35        0.0  1.07  0.17 -0.14   \n",
       "2  84fab50f3c60d1fdc83aa91b5e584a78       1   36        0.0  0.89  1.28  0.86   \n",
       "3  f3b8fdaccce12ef6352bfad4d6052fe9       0   39        NaN  0.33 -1.01 -0.33   \n",
       "4  8b06ea5e9cb87c61da387995450607f7       0   31        NaN  0.15  0.47  1.17   \n",
       "\n",
       "    agr   neu  \n",
       "0 -1.76  0.61  \n",
       "1  1.49  0.30  \n",
       "2  1.07  0.99  \n",
       "3 -0.68  0.92  \n",
       "4 -1.01 -0.32  "
      ]
     },
     "execution_count": 8,
     "metadata": {},
     "output_type": "execute_result"
    }
   ],
   "source": [
    "users.head()"
   ]
  },
  {
   "cell_type": "code",
   "execution_count": 9,
   "id": "b680e9b9",
   "metadata": {},
   "outputs": [
    {
     "data": {
      "text/html": [
       "<div>\n",
       "<style scoped>\n",
       "    .dataframe tbody tr th:only-of-type {\n",
       "        vertical-align: middle;\n",
       "    }\n",
       "\n",
       "    .dataframe tbody tr th {\n",
       "        vertical-align: top;\n",
       "    }\n",
       "\n",
       "    .dataframe thead th {\n",
       "        text-align: right;\n",
       "    }\n",
       "</style>\n",
       "<table border=\"1\" class=\"dataframe\">\n",
       "  <thead>\n",
       "    <tr style=\"text-align: right;\">\n",
       "      <th></th>\n",
       "      <th>userid</th>\n",
       "      <th>likeid</th>\n",
       "    </tr>\n",
       "  </thead>\n",
       "  <tbody>\n",
       "    <tr>\n",
       "      <th>0</th>\n",
       "      <td>71bc7c0901488aec6d30f0add257e7c5</td>\n",
       "      <td>3c1636c878e6eb2acfd00c6b61086e38</td>\n",
       "    </tr>\n",
       "    <tr>\n",
       "      <th>1</th>\n",
       "      <td>978ab8e90c4d6ad1a48ef5c973b62f4d</td>\n",
       "      <td>feca46ddb8ef04f86172ace0cb7e004c</td>\n",
       "    </tr>\n",
       "    <tr>\n",
       "      <th>2</th>\n",
       "      <td>85123b0e358907725cf19a2cb0ec3983</td>\n",
       "      <td>b65f46d64c688fe98bdbcf93a76a71fc</td>\n",
       "    </tr>\n",
       "    <tr>\n",
       "      <th>3</th>\n",
       "      <td>ce110562b3e2f7e5cad3775b32d9caa5</td>\n",
       "      <td>b65f46d64c688fe98bdbcf93a76a71fc</td>\n",
       "    </tr>\n",
       "    <tr>\n",
       "      <th>4</th>\n",
       "      <td>8188d20745471273fa69ba44a5b28473</td>\n",
       "      <td>b65f46d64c688fe98bdbcf93a76a71fc</td>\n",
       "    </tr>\n",
       "  </tbody>\n",
       "</table>\n",
       "</div>"
      ],
      "text/plain": [
       "                             userid                            likeid\n",
       "0  71bc7c0901488aec6d30f0add257e7c5  3c1636c878e6eb2acfd00c6b61086e38\n",
       "1  978ab8e90c4d6ad1a48ef5c973b62f4d  feca46ddb8ef04f86172ace0cb7e004c\n",
       "2  85123b0e358907725cf19a2cb0ec3983  b65f46d64c688fe98bdbcf93a76a71fc\n",
       "3  ce110562b3e2f7e5cad3775b32d9caa5  b65f46d64c688fe98bdbcf93a76a71fc\n",
       "4  8188d20745471273fa69ba44a5b28473  b65f46d64c688fe98bdbcf93a76a71fc"
      ]
     },
     "execution_count": 9,
     "metadata": {},
     "output_type": "execute_result"
    }
   ],
   "source": [
    "ul.head()"
   ]
  },
  {
   "cell_type": "code",
   "execution_count": 10,
   "id": "408b1854",
   "metadata": {},
   "outputs": [
    {
     "data": {
      "text/html": [
       "<div>\n",
       "<style scoped>\n",
       "    .dataframe tbody tr th:only-of-type {\n",
       "        vertical-align: middle;\n",
       "    }\n",
       "\n",
       "    .dataframe tbody tr th {\n",
       "        vertical-align: top;\n",
       "    }\n",
       "\n",
       "    .dataframe thead th {\n",
       "        text-align: right;\n",
       "    }\n",
       "</style>\n",
       "<table border=\"1\" class=\"dataframe\">\n",
       "  <thead>\n",
       "    <tr style=\"text-align: right;\">\n",
       "      <th></th>\n",
       "      <th>likeid</th>\n",
       "      <th>name</th>\n",
       "    </tr>\n",
       "  </thead>\n",
       "  <tbody>\n",
       "    <tr>\n",
       "      <th>0</th>\n",
       "      <td>3c1636c878e6eb2acfd00c6b61086e38</td>\n",
       "      <td>REIGN by Paul Gibson</td>\n",
       "    </tr>\n",
       "    <tr>\n",
       "      <th>1</th>\n",
       "      <td>feca46ddb8ef04f86172ace0cb7e004c</td>\n",
       "      <td>Cupcake Wishes &amp; Birthday Dreams</td>\n",
       "    </tr>\n",
       "    <tr>\n",
       "      <th>2</th>\n",
       "      <td>b65f46d64c688fe98bdbcf93a76a71fc</td>\n",
       "      <td>Yo también me rei de la caída de otro jejeje</td>\n",
       "    </tr>\n",
       "    <tr>\n",
       "      <th>3</th>\n",
       "      <td>9c5c8bb82d2cd46fbd7582f944fe370e</td>\n",
       "      <td>Abraham Joshua Heschel Day School- Alumni Network</td>\n",
       "    </tr>\n",
       "    <tr>\n",
       "      <th>4</th>\n",
       "      <td>2d82fa84ad79b085dc516dde154327a2</td>\n",
       "      <td>Kennesaw Farmer's Market</td>\n",
       "    </tr>\n",
       "  </tbody>\n",
       "</table>\n",
       "</div>"
      ],
      "text/plain": [
       "                             likeid  \\\n",
       "0  3c1636c878e6eb2acfd00c6b61086e38   \n",
       "1  feca46ddb8ef04f86172ace0cb7e004c   \n",
       "2  b65f46d64c688fe98bdbcf93a76a71fc   \n",
       "3  9c5c8bb82d2cd46fbd7582f944fe370e   \n",
       "4  2d82fa84ad79b085dc516dde154327a2   \n",
       "\n",
       "                                                name  \n",
       "0                               REIGN by Paul Gibson  \n",
       "1                   Cupcake Wishes & Birthday Dreams  \n",
       "2       Yo también me rei de la caída de otro jejeje  \n",
       "3  Abraham Joshua Heschel Day School- Alumni Network  \n",
       "4                           Kennesaw Farmer's Market  "
      ]
     },
     "execution_count": 10,
     "metadata": {},
     "output_type": "execute_result"
    }
   ],
   "source": [
    "likes.head()"
   ]
  },
  {
   "cell_type": "code",
   "execution_count": 22,
   "id": "b3e82f2f",
   "metadata": {},
   "outputs": [],
   "source": [
    "ul_user = match(ul.userid,users.userid)\n",
    "ul_like = match(ul.likeid,likes.likeid)"
   ]
  },
  {
   "cell_type": "code",
   "execution_count": 21,
   "id": "e6ff50b2",
   "metadata": {},
   "outputs": [
    {
     "data": {
      "text/plain": [
       "<function __main__.<lambda>(a, b)>"
      ]
     },
     "execution_count": 21,
     "metadata": {},
     "output_type": "execute_result"
    }
   ],
   "source": [
    "match = lambda a, b: [ b.index(str(x)) if x in b else None for x in a ]\n",
    "match\n"
   ]
  },
  {
   "cell_type": "code",
   "execution_count": 1,
   "id": "b880639e",
   "metadata": {},
   "outputs": [
    {
     "ename": "ModuleNotFoundError",
     "evalue": "No module named 'antlr4'",
     "output_type": "error",
     "traceback": [
      "\u001b[0;31m---------------------------------------------------------------------------\u001b[0m",
      "\u001b[0;31mModuleNotFoundError\u001b[0m                       Traceback (most recent call last)",
      "\u001b[0;32m<ipython-input-1-bd16e93e7c81>\u001b[0m in \u001b[0;36m<module>\u001b[0;34m\u001b[0m\n\u001b[0;32m----> 1\u001b[0;31m \u001b[0;32mfrom\u001b[0m \u001b[0mpyensae\u001b[0m\u001b[0;34m.\u001b[0m\u001b[0mlanguages\u001b[0m \u001b[0;32mimport\u001b[0m \u001b[0mr2python\u001b[0m\u001b[0;34m\u001b[0m\u001b[0;34m\u001b[0m\u001b[0m\n\u001b[0m",
      "\u001b[0;32m~/opt/anaconda3/lib/python3.8/site-packages/pyensae/languages/__init__.py\u001b[0m in \u001b[0;36m<module>\u001b[0;34m\u001b[0m\n\u001b[1;32m      5\u001b[0m \u001b[0;34m\u001b[0m\u001b[0m\n\u001b[1;32m      6\u001b[0m \u001b[0;32mfrom\u001b[0m \u001b[0;34m.\u001b[0m\u001b[0mantlr_grammar_build\u001b[0m \u001b[0;32mimport\u001b[0m \u001b[0mbuild_grammar\u001b[0m\u001b[0;34m\u001b[0m\u001b[0;34m\u001b[0m\u001b[0m\n\u001b[0;32m----> 7\u001b[0;31m \u001b[0;32mfrom\u001b[0m \u001b[0;34m.\u001b[0m\u001b[0mantlr_grammar_use\u001b[0m \u001b[0;32mimport\u001b[0m \u001b[0mget_parser_lexer\u001b[0m\u001b[0;34m,\u001b[0m \u001b[0mparse_code\u001b[0m\u001b[0;34m,\u001b[0m \u001b[0mget_tree_string\u001b[0m\u001b[0;34m,\u001b[0m \u001b[0mget_tree_graph\u001b[0m\u001b[0;34m\u001b[0m\u001b[0;34m\u001b[0m\u001b[0m\n\u001b[0m\u001b[1;32m      8\u001b[0m \u001b[0;32mfrom\u001b[0m \u001b[0;34m.\u001b[0m\u001b[0mrconverter\u001b[0m \u001b[0;32mimport\u001b[0m \u001b[0mr2python\u001b[0m\u001b[0;34m\u001b[0m\u001b[0;34m\u001b[0m\u001b[0m\n\u001b[1;32m      9\u001b[0m \u001b[0;32mfrom\u001b[0m \u001b[0;34m.\u001b[0m\u001b[0mtree_string_listener\u001b[0m \u001b[0;32mimport\u001b[0m \u001b[0mTreeStringListener\u001b[0m\u001b[0;34m\u001b[0m\u001b[0;34m\u001b[0m\u001b[0m\n",
      "\u001b[0;32m~/opt/anaconda3/lib/python3.8/site-packages/pyensae/languages/antlr_grammar_use.py\u001b[0m in \u001b[0;36m<module>\u001b[0;34m\u001b[0m\n\u001b[1;32m      5\u001b[0m \"\"\"\n\u001b[1;32m      6\u001b[0m \u001b[0;32mimport\u001b[0m \u001b[0mos\u001b[0m\u001b[0;34m\u001b[0m\u001b[0;34m\u001b[0m\u001b[0m\n\u001b[0;32m----> 7\u001b[0;31m \u001b[0;32mfrom\u001b[0m \u001b[0mantlr4\u001b[0m \u001b[0;32mimport\u001b[0m \u001b[0mParseTreeWalker\u001b[0m\u001b[0;34m,\u001b[0m \u001b[0mCommonTokenStream\u001b[0m\u001b[0;34m,\u001b[0m \u001b[0mInputStream\u001b[0m\u001b[0;34m\u001b[0m\u001b[0;34m\u001b[0m\u001b[0m\n\u001b[0m\u001b[1;32m      8\u001b[0m \u001b[0;32mfrom\u001b[0m \u001b[0;34m.\u001b[0m\u001b[0mtree_string_listener\u001b[0m \u001b[0;32mimport\u001b[0m \u001b[0mTreeStringListener\u001b[0m\u001b[0;34m\u001b[0m\u001b[0;34m\u001b[0m\u001b[0m\n\u001b[1;32m      9\u001b[0m \u001b[0;32mfrom\u001b[0m \u001b[0;34m.\u001b[0m\u001b[0mtree_graph_listener\u001b[0m \u001b[0;32mimport\u001b[0m \u001b[0mTreeGraphListener\u001b[0m\u001b[0;34m\u001b[0m\u001b[0;34m\u001b[0m\u001b[0m\n",
      "\u001b[0;31mModuleNotFoundError\u001b[0m: No module named 'antlr4'"
     ]
    }
   ],
   "source": [
    "from pyensae.languages import r2python"
   ]
  },
  {
   "cell_type": "code",
   "execution_count": 2,
   "id": "548933aa",
   "metadata": {},
   "outputs": [
    {
     "name": "stdout",
     "output_type": "stream",
     "text": [
      "\u001b[31mERROR: Could not find a version that satisfies the requirement antlr4\u001b[0m\n",
      "\u001b[31mERROR: No matching distribution found for antlr4\u001b[0m\n",
      "Note: you may need to restart the kernel to use updated packages.\n"
     ]
    }
   ],
   "source": [
    "pip install antlr4"
   ]
  },
  {
   "cell_type": "code",
   "execution_count": 18,
   "id": "51648250",
   "metadata": {},
   "outputs": [],
   "source": [
    "ul_user = match(ul.loc[:,\"userid\"],users.loc[:,\"userid\"])\n",
    "ul_like = match(ul.loc[:,\"likeid\"],likes.loc[:,\"likeid\"])\n"
   ]
  },
  {
   "cell_type": "code",
   "execution_count": 7,
   "id": "097a1599",
   "metadata": {},
   "outputs": [],
   "source": [
    "a=ul[\"userid\"]\n",
    "b=users[\"userid\"]\n",
    "ind=[]\n",
    "\n",
    "for i in a:\n",
    "    if i in b:\n",
    "        ind.append(b.index(i))\n",
    "    else:\n",
    "        ind.append(\"None\")"
   ]
  },
  {
   "cell_type": "code",
   "execution_count": 10,
   "id": "af2f8f3b",
   "metadata": {},
   "outputs": [
    {
     "name": "stdout",
     "output_type": "stream",
     "text": [
      "['None', 'None', 'None', 'None', 'None', 'None', 'None', 'None', 'None', 'None']\n"
     ]
    }
   ],
   "source": [
    "print(ind[0:10])"
   ]
  },
  {
   "cell_type": "code",
   "execution_count": 24,
   "id": "d1875be8",
   "metadata": {},
   "outputs": [
    {
     "name": "stdout",
     "output_type": "stream",
     "text": [
      "[None, None, None, None, None, None, None, None, None, None, None, None, None, None, None, None, None, None, None, None, None, None, None, None, None, None, None, None, None, None, None, None, None, None, None, None, None, None, None, None, None, None, None, None, None, None, None, None, None, None, None, None, None, None, None, None, None, None, None, None, None, None, None, None, None, None, None, None, None, None, None, None, None, None, None, None, None, None, None, None, None, None, None, None, None, None, None, None, None, None, None, None, None, None, None, None, None, None, None, None]\n"
     ]
    }
   ],
   "source": [
    "print(ul_user[0:100])"
   ]
  },
  {
   "cell_type": "code",
   "execution_count": 25,
   "id": "de3c9ed3",
   "metadata": {},
   "outputs": [
    {
     "name": "stdout",
     "output_type": "stream",
     "text": [
      "[None, None, None, None, None, None, None, None, None, None, None, None, None, None, None, None, None, None, None, None, None, None, None, None, None, None, None, None, None, None, None, None, None, None, None, None, None, None, None, None, None, None, None, None, None, None, None, None, None, None, None, None, None, None, None, None, None, None, None, None, None, None, None, None, None, None, None, None, None, None, None, None, None, None, None, None, None, None, None, None, None, None, None, None, None, None, None, None, None, None, None, None, None, None, None, None, None, None, None, None]\n"
     ]
    }
   ],
   "source": [
    "print(ul_like[0:100])"
   ]
  },
  {
   "cell_type": "code",
   "execution_count": null,
   "id": "a48065f5",
   "metadata": {},
   "outputs": [],
   "source": []
  }
 ],
 "metadata": {
  "kernelspec": {
   "display_name": "Python 3",
   "language": "python",
   "name": "python3"
  },
  "language_info": {
   "codemirror_mode": {
    "name": "ipython",
    "version": 3
   },
   "file_extension": ".py",
   "mimetype": "text/x-python",
   "name": "python",
   "nbconvert_exporter": "python",
   "pygments_lexer": "ipython3",
   "version": "3.8.8"
  }
 },
 "nbformat": 4,
 "nbformat_minor": 5
}
